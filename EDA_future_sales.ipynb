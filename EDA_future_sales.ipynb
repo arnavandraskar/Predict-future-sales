{
  "nbformat": 4,
  "nbformat_minor": 0,
  "metadata": {
    "colab": {
      "name": "EDA_future_sales.ipynb",
      "provenance": [],
      "collapsed_sections": [
        "9oDvQonWLF7S",
        "vsZRD5b9Vy9z",
        "wefS1WvIVWqZ",
        "702wqd7kVjhm",
        "-Bt7Wfv4WpVD",
        "isZU-6d-XF1T",
        "echiuOntcObo",
        "tgXYW56NcKtp",
        "uLwSvSFocHGP",
        "x1onXjgDcFyD"
      ]
    },
    "kernelspec": {
      "name": "python3",
      "display_name": "Python 3"
    },
    "language_info": {
      "name": "python"
    }
  },
  "cells": [
    {
      "cell_type": "markdown",
      "source": [
        "# Requirement gathering\n",
        "\n"
      ],
      "metadata": {
        "id": "XNNwdSMwdoOM"
      }
    },
    {
      "cell_type": "code",
      "source": [
        "import pandas as pd\n",
        "import numpy as np\n",
        "import matplotlib.pyplot as plt\n",
        "import seaborn as sns"
      ],
      "metadata": {
        "id": "MULY2RByLUzj"
      },
      "execution_count": 2,
      "outputs": []
    },
    {
      "cell_type": "code",
      "execution_count": 3,
      "metadata": {
        "colab": {
          "base_uri": "https://localhost:8080/"
        },
        "id": "nKq-R8_LKh8W",
        "outputId": "72009286-8ded-4649-f3ff-a92a555a133f"
      },
      "outputs": [
        {
          "output_type": "stream",
          "name": "stdout",
          "text": [
            "--2022-02-20 17:17:55--  https://storage.googleapis.com/kaggle-competitions-data/kaggle-v2/8587/868304/bundle/archive.zip?GoogleAccessId=web-data@kaggle-161607.iam.gserviceaccount.com&Expires=1645553228&Signature=i13kABmhOt19aL2FrDI%2FwL%2BkHWSneIK1xI6X5lFtXbMM58ML6b5ZVTNRJj%2FwRHx2SPg4lPGNYB9HroQn%2FGMS8%2FP6H%2B6smau%2BFNaoHFcOf%2BDOR4zh0%2F1My0C84XxO9z24xtb56UtruRBPxQZrHfjsjVn7TE2naIbQ2d6JHb1wjH4WDRsvv7DkHmtMo%2BhPoM2ndJUw55ipViVXn2t9qTL5dVEbZhhommVqKzAk9HnpGlVuwHkGCVIED5vT3lFg6xZvEheyL1I821yZrwJ60qmMe6UMR468lm2uuh43mFpOn%2FyA8Ti34mR2%2FqXV9bByhJN%2FvD3GzQuWV2gQ70VET%2FiP9Q%3D%3D&response-content-disposition=attachment%3B+filename%3Dcompetitive-data-science-predict-future-sales.zip\n",
            "Resolving storage.googleapis.com (storage.googleapis.com)... 108.177.125.128, 142.250.157.128, 142.251.8.128, ...\n",
            "Connecting to storage.googleapis.com (storage.googleapis.com)|108.177.125.128|:443... connected.\n",
            "HTTP request sent, awaiting response... 200 OK\n",
            "Length: 15845085 (15M) [application/zip]\n",
            "Saving to: ‘competitive-data-science-predict-future-sales.zip’\n",
            "\n",
            "competitive-data-sc 100%[===================>]  15.11M  9.84MB/s    in 1.5s    \n",
            "\n",
            "2022-02-20 17:17:57 (9.84 MB/s) - ‘competitive-data-science-predict-future-sales.zip’ saved [15845085/15845085]\n",
            "\n"
          ]
        }
      ],
      "source": [
        "!wget --header=\"Host: storage.googleapis.com\" --header=\"User-Agent: Mozilla/5.0 (Windows NT 10.0; Win64; x64) AppleWebKit/537.36 (KHTML, like Gecko) Chrome/98.0.4758.102 Safari/537.36\" --header=\"Accept: text/html,application/xhtml+xml,application/xml;q=0.9,image/avif,image/webp,image/apng,*/*;q=0.8,application/signed-exchange;v=b3;q=0.9\" --header=\"Accept-Language: en-IN,en;q=0.9,en-GB;q=0.8,en-US;q=0.7,hi;q=0.6,mr;q=0.5\" --header=\"Referer: https://www.kaggle.com/\" \"https://storage.googleapis.com/kaggle-competitions-data/kaggle-v2/8587/868304/bundle/archive.zip?GoogleAccessId=web-data@kaggle-161607.iam.gserviceaccount.com&Expires=1645553228&Signature=i13kABmhOt19aL2FrDI%2FwL%2BkHWSneIK1xI6X5lFtXbMM58ML6b5ZVTNRJj%2FwRHx2SPg4lPGNYB9HroQn%2FGMS8%2FP6H%2B6smau%2BFNaoHFcOf%2BDOR4zh0%2F1My0C84XxO9z24xtb56UtruRBPxQZrHfjsjVn7TE2naIbQ2d6JHb1wjH4WDRsvv7DkHmtMo%2BhPoM2ndJUw55ipViVXn2t9qTL5dVEbZhhommVqKzAk9HnpGlVuwHkGCVIED5vT3lFg6xZvEheyL1I821yZrwJ60qmMe6UMR468lm2uuh43mFpOn%2FyA8Ti34mR2%2FqXV9bByhJN%2FvD3GzQuWV2gQ70VET%2FiP9Q%3D%3D&response-content-disposition=attachment%3B+filename%3Dcompetitive-data-science-predict-future-sales.zip\" -c -O 'competitive-data-science-predict-future-sales.zip'"
      ]
    },
    {
      "cell_type": "code",
      "source": [
        "!unzip 'competitive-data-science-predict-future-sales.zip'"
      ],
      "metadata": {
        "colab": {
          "base_uri": "https://localhost:8080/"
        },
        "id": "3gsA_OSMKwna",
        "outputId": "b4b521d5-4fc4-4b64-b248-e8580b451947"
      },
      "execution_count": 4,
      "outputs": [
        {
          "output_type": "stream",
          "name": "stdout",
          "text": [
            "Archive:  competitive-data-science-predict-future-sales.zip\n",
            "  inflating: item_categories.csv     \n",
            "  inflating: items.csv               \n",
            "  inflating: sales_train.csv         \n",
            "  inflating: sample_submission.csv   \n",
            "  inflating: shops.csv               \n",
            "  inflating: test.csv                \n"
          ]
        }
      ]
    },
    {
      "cell_type": "markdown",
      "source": [
        "# EDA"
      ],
      "metadata": {
        "id": "9oDvQonWLF7S"
      }
    },
    {
      "cell_type": "code",
      "source": [
        "df_train = pd.read_csv(\"sales_train.csv\") \n",
        "df_items = pd.read_csv(\"items.csv\")\n",
        "df_item_cat = pd.read_csv(\"item_categories.csv\")\n",
        "df_shops = pd.read_csv(\"shops.csv\")\n",
        "df_test = pd.read_csv(\"test.csv\")"
      ],
      "metadata": {
        "id": "16wL0wrnKwkA"
      },
      "execution_count": 5,
      "outputs": []
    },
    {
      "cell_type": "code",
      "source": [
        "df_train.shape #shape of data"
      ],
      "metadata": {
        "colab": {
          "base_uri": "https://localhost:8080/"
        },
        "id": "3c56ZguBKwWc",
        "outputId": "ffc056a1-2352-4d8a-e2a9-7dd40f40ddee"
      },
      "execution_count": 7,
      "outputs": [
        {
          "output_type": "execute_result",
          "data": {
            "text/plain": [
              "(2935849, 6)"
            ]
          },
          "metadata": {},
          "execution_count": 7
        }
      ]
    },
    {
      "cell_type": "code",
      "source": [
        "df_train.head() #reading top 5 rows"
      ],
      "metadata": {
        "colab": {
          "base_uri": "https://localhost:8080/",
          "height": 206
        },
        "id": "B-0K0Y3ZMcVE",
        "outputId": "4e7cc9e3-00ae-496c-f370-b567ee4d2253"
      },
      "execution_count": 6,
      "outputs": [
        {
          "output_type": "execute_result",
          "data": {
            "text/html": [
              "\n",
              "  <div id=\"df-9587fdc8-1f3e-480a-b1bd-fe7b807bca05\">\n",
              "    <div class=\"colab-df-container\">\n",
              "      <div>\n",
              "<style scoped>\n",
              "    .dataframe tbody tr th:only-of-type {\n",
              "        vertical-align: middle;\n",
              "    }\n",
              "\n",
              "    .dataframe tbody tr th {\n",
              "        vertical-align: top;\n",
              "    }\n",
              "\n",
              "    .dataframe thead th {\n",
              "        text-align: right;\n",
              "    }\n",
              "</style>\n",
              "<table border=\"1\" class=\"dataframe\">\n",
              "  <thead>\n",
              "    <tr style=\"text-align: right;\">\n",
              "      <th></th>\n",
              "      <th>date</th>\n",
              "      <th>date_block_num</th>\n",
              "      <th>shop_id</th>\n",
              "      <th>item_id</th>\n",
              "      <th>item_price</th>\n",
              "      <th>item_cnt_day</th>\n",
              "    </tr>\n",
              "  </thead>\n",
              "  <tbody>\n",
              "    <tr>\n",
              "      <th>0</th>\n",
              "      <td>02.01.2013</td>\n",
              "      <td>0</td>\n",
              "      <td>59</td>\n",
              "      <td>22154</td>\n",
              "      <td>999.00</td>\n",
              "      <td>1.0</td>\n",
              "    </tr>\n",
              "    <tr>\n",
              "      <th>1</th>\n",
              "      <td>03.01.2013</td>\n",
              "      <td>0</td>\n",
              "      <td>25</td>\n",
              "      <td>2552</td>\n",
              "      <td>899.00</td>\n",
              "      <td>1.0</td>\n",
              "    </tr>\n",
              "    <tr>\n",
              "      <th>2</th>\n",
              "      <td>05.01.2013</td>\n",
              "      <td>0</td>\n",
              "      <td>25</td>\n",
              "      <td>2552</td>\n",
              "      <td>899.00</td>\n",
              "      <td>-1.0</td>\n",
              "    </tr>\n",
              "    <tr>\n",
              "      <th>3</th>\n",
              "      <td>06.01.2013</td>\n",
              "      <td>0</td>\n",
              "      <td>25</td>\n",
              "      <td>2554</td>\n",
              "      <td>1709.05</td>\n",
              "      <td>1.0</td>\n",
              "    </tr>\n",
              "    <tr>\n",
              "      <th>4</th>\n",
              "      <td>15.01.2013</td>\n",
              "      <td>0</td>\n",
              "      <td>25</td>\n",
              "      <td>2555</td>\n",
              "      <td>1099.00</td>\n",
              "      <td>1.0</td>\n",
              "    </tr>\n",
              "  </tbody>\n",
              "</table>\n",
              "</div>\n",
              "      <button class=\"colab-df-convert\" onclick=\"convertToInteractive('df-9587fdc8-1f3e-480a-b1bd-fe7b807bca05')\"\n",
              "              title=\"Convert this dataframe to an interactive table.\"\n",
              "              style=\"display:none;\">\n",
              "        \n",
              "  <svg xmlns=\"http://www.w3.org/2000/svg\" height=\"24px\"viewBox=\"0 0 24 24\"\n",
              "       width=\"24px\">\n",
              "    <path d=\"M0 0h24v24H0V0z\" fill=\"none\"/>\n",
              "    <path d=\"M18.56 5.44l.94 2.06.94-2.06 2.06-.94-2.06-.94-.94-2.06-.94 2.06-2.06.94zm-11 1L8.5 8.5l.94-2.06 2.06-.94-2.06-.94L8.5 2.5l-.94 2.06-2.06.94zm10 10l.94 2.06.94-2.06 2.06-.94-2.06-.94-.94-2.06-.94 2.06-2.06.94z\"/><path d=\"M17.41 7.96l-1.37-1.37c-.4-.4-.92-.59-1.43-.59-.52 0-1.04.2-1.43.59L10.3 9.45l-7.72 7.72c-.78.78-.78 2.05 0 2.83L4 21.41c.39.39.9.59 1.41.59.51 0 1.02-.2 1.41-.59l7.78-7.78 2.81-2.81c.8-.78.8-2.07 0-2.86zM5.41 20L4 18.59l7.72-7.72 1.47 1.35L5.41 20z\"/>\n",
              "  </svg>\n",
              "      </button>\n",
              "      \n",
              "  <style>\n",
              "    .colab-df-container {\n",
              "      display:flex;\n",
              "      flex-wrap:wrap;\n",
              "      gap: 12px;\n",
              "    }\n",
              "\n",
              "    .colab-df-convert {\n",
              "      background-color: #E8F0FE;\n",
              "      border: none;\n",
              "      border-radius: 50%;\n",
              "      cursor: pointer;\n",
              "      display: none;\n",
              "      fill: #1967D2;\n",
              "      height: 32px;\n",
              "      padding: 0 0 0 0;\n",
              "      width: 32px;\n",
              "    }\n",
              "\n",
              "    .colab-df-convert:hover {\n",
              "      background-color: #E2EBFA;\n",
              "      box-shadow: 0px 1px 2px rgba(60, 64, 67, 0.3), 0px 1px 3px 1px rgba(60, 64, 67, 0.15);\n",
              "      fill: #174EA6;\n",
              "    }\n",
              "\n",
              "    [theme=dark] .colab-df-convert {\n",
              "      background-color: #3B4455;\n",
              "      fill: #D2E3FC;\n",
              "    }\n",
              "\n",
              "    [theme=dark] .colab-df-convert:hover {\n",
              "      background-color: #434B5C;\n",
              "      box-shadow: 0px 1px 3px 1px rgba(0, 0, 0, 0.15);\n",
              "      filter: drop-shadow(0px 1px 2px rgba(0, 0, 0, 0.3));\n",
              "      fill: #FFFFFF;\n",
              "    }\n",
              "  </style>\n",
              "\n",
              "      <script>\n",
              "        const buttonEl =\n",
              "          document.querySelector('#df-9587fdc8-1f3e-480a-b1bd-fe7b807bca05 button.colab-df-convert');\n",
              "        buttonEl.style.display =\n",
              "          google.colab.kernel.accessAllowed ? 'block' : 'none';\n",
              "\n",
              "        async function convertToInteractive(key) {\n",
              "          const element = document.querySelector('#df-9587fdc8-1f3e-480a-b1bd-fe7b807bca05');\n",
              "          const dataTable =\n",
              "            await google.colab.kernel.invokeFunction('convertToInteractive',\n",
              "                                                     [key], {});\n",
              "          if (!dataTable) return;\n",
              "\n",
              "          const docLinkHtml = 'Like what you see? Visit the ' +\n",
              "            '<a target=\"_blank\" href=https://colab.research.google.com/notebooks/data_table.ipynb>data table notebook</a>'\n",
              "            + ' to learn more about interactive tables.';\n",
              "          element.innerHTML = '';\n",
              "          dataTable['output_type'] = 'display_data';\n",
              "          await google.colab.output.renderOutput(dataTable, element);\n",
              "          const docLink = document.createElement('div');\n",
              "          docLink.innerHTML = docLinkHtml;\n",
              "          element.appendChild(docLink);\n",
              "        }\n",
              "      </script>\n",
              "    </div>\n",
              "  </div>\n",
              "  "
            ],
            "text/plain": [
              "         date  date_block_num  shop_id  item_id  item_price  item_cnt_day\n",
              "0  02.01.2013               0       59    22154      999.00           1.0\n",
              "1  03.01.2013               0       25     2552      899.00           1.0\n",
              "2  05.01.2013               0       25     2552      899.00          -1.0\n",
              "3  06.01.2013               0       25     2554     1709.05           1.0\n",
              "4  15.01.2013               0       25     2555     1099.00           1.0"
            ]
          },
          "metadata": {},
          "execution_count": 6
        }
      ]
    },
    {
      "cell_type": "code",
      "source": [
        "df_train.info() #Data types and other info"
      ],
      "metadata": {
        "colab": {
          "base_uri": "https://localhost:8080/"
        },
        "id": "fp1TuQAfKwhv",
        "outputId": "6913e504-07aa-405c-aff8-dc28d8056abf"
      },
      "execution_count": 8,
      "outputs": [
        {
          "output_type": "stream",
          "name": "stdout",
          "text": [
            "<class 'pandas.core.frame.DataFrame'>\n",
            "RangeIndex: 2935849 entries, 0 to 2935848\n",
            "Data columns (total 6 columns):\n",
            " #   Column          Dtype  \n",
            "---  ------          -----  \n",
            " 0   date            object \n",
            " 1   date_block_num  int64  \n",
            " 2   shop_id         int64  \n",
            " 3   item_id         int64  \n",
            " 4   item_price      float64\n",
            " 5   item_cnt_day    float64\n",
            "dtypes: float64(2), int64(3), object(1)\n",
            "memory usage: 134.4+ MB\n"
          ]
        }
      ]
    },
    {
      "cell_type": "code",
      "source": [
        "df_train.describe() #statistical info"
      ],
      "metadata": {
        "colab": {
          "base_uri": "https://localhost:8080/",
          "height": 300
        },
        "id": "OygBnYyLKwfX",
        "outputId": "6191de0c-f3f0-4240-eeb3-0fde9070676f"
      },
      "execution_count": 9,
      "outputs": [
        {
          "output_type": "execute_result",
          "data": {
            "text/html": [
              "\n",
              "  <div id=\"df-69e47e1a-3e01-4273-827a-88b1ca46e0d0\">\n",
              "    <div class=\"colab-df-container\">\n",
              "      <div>\n",
              "<style scoped>\n",
              "    .dataframe tbody tr th:only-of-type {\n",
              "        vertical-align: middle;\n",
              "    }\n",
              "\n",
              "    .dataframe tbody tr th {\n",
              "        vertical-align: top;\n",
              "    }\n",
              "\n",
              "    .dataframe thead th {\n",
              "        text-align: right;\n",
              "    }\n",
              "</style>\n",
              "<table border=\"1\" class=\"dataframe\">\n",
              "  <thead>\n",
              "    <tr style=\"text-align: right;\">\n",
              "      <th></th>\n",
              "      <th>date_block_num</th>\n",
              "      <th>shop_id</th>\n",
              "      <th>item_id</th>\n",
              "      <th>item_price</th>\n",
              "      <th>item_cnt_day</th>\n",
              "    </tr>\n",
              "  </thead>\n",
              "  <tbody>\n",
              "    <tr>\n",
              "      <th>count</th>\n",
              "      <td>2.935849e+06</td>\n",
              "      <td>2.935849e+06</td>\n",
              "      <td>2.935849e+06</td>\n",
              "      <td>2.935849e+06</td>\n",
              "      <td>2.935849e+06</td>\n",
              "    </tr>\n",
              "    <tr>\n",
              "      <th>mean</th>\n",
              "      <td>1.456991e+01</td>\n",
              "      <td>3.300173e+01</td>\n",
              "      <td>1.019723e+04</td>\n",
              "      <td>8.908532e+02</td>\n",
              "      <td>1.242641e+00</td>\n",
              "    </tr>\n",
              "    <tr>\n",
              "      <th>std</th>\n",
              "      <td>9.422988e+00</td>\n",
              "      <td>1.622697e+01</td>\n",
              "      <td>6.324297e+03</td>\n",
              "      <td>1.729800e+03</td>\n",
              "      <td>2.618834e+00</td>\n",
              "    </tr>\n",
              "    <tr>\n",
              "      <th>min</th>\n",
              "      <td>0.000000e+00</td>\n",
              "      <td>0.000000e+00</td>\n",
              "      <td>0.000000e+00</td>\n",
              "      <td>-1.000000e+00</td>\n",
              "      <td>-2.200000e+01</td>\n",
              "    </tr>\n",
              "    <tr>\n",
              "      <th>25%</th>\n",
              "      <td>7.000000e+00</td>\n",
              "      <td>2.200000e+01</td>\n",
              "      <td>4.476000e+03</td>\n",
              "      <td>2.490000e+02</td>\n",
              "      <td>1.000000e+00</td>\n",
              "    </tr>\n",
              "    <tr>\n",
              "      <th>50%</th>\n",
              "      <td>1.400000e+01</td>\n",
              "      <td>3.100000e+01</td>\n",
              "      <td>9.343000e+03</td>\n",
              "      <td>3.990000e+02</td>\n",
              "      <td>1.000000e+00</td>\n",
              "    </tr>\n",
              "    <tr>\n",
              "      <th>75%</th>\n",
              "      <td>2.300000e+01</td>\n",
              "      <td>4.700000e+01</td>\n",
              "      <td>1.568400e+04</td>\n",
              "      <td>9.990000e+02</td>\n",
              "      <td>1.000000e+00</td>\n",
              "    </tr>\n",
              "    <tr>\n",
              "      <th>max</th>\n",
              "      <td>3.300000e+01</td>\n",
              "      <td>5.900000e+01</td>\n",
              "      <td>2.216900e+04</td>\n",
              "      <td>3.079800e+05</td>\n",
              "      <td>2.169000e+03</td>\n",
              "    </tr>\n",
              "  </tbody>\n",
              "</table>\n",
              "</div>\n",
              "      <button class=\"colab-df-convert\" onclick=\"convertToInteractive('df-69e47e1a-3e01-4273-827a-88b1ca46e0d0')\"\n",
              "              title=\"Convert this dataframe to an interactive table.\"\n",
              "              style=\"display:none;\">\n",
              "        \n",
              "  <svg xmlns=\"http://www.w3.org/2000/svg\" height=\"24px\"viewBox=\"0 0 24 24\"\n",
              "       width=\"24px\">\n",
              "    <path d=\"M0 0h24v24H0V0z\" fill=\"none\"/>\n",
              "    <path d=\"M18.56 5.44l.94 2.06.94-2.06 2.06-.94-2.06-.94-.94-2.06-.94 2.06-2.06.94zm-11 1L8.5 8.5l.94-2.06 2.06-.94-2.06-.94L8.5 2.5l-.94 2.06-2.06.94zm10 10l.94 2.06.94-2.06 2.06-.94-2.06-.94-.94-2.06-.94 2.06-2.06.94z\"/><path d=\"M17.41 7.96l-1.37-1.37c-.4-.4-.92-.59-1.43-.59-.52 0-1.04.2-1.43.59L10.3 9.45l-7.72 7.72c-.78.78-.78 2.05 0 2.83L4 21.41c.39.39.9.59 1.41.59.51 0 1.02-.2 1.41-.59l7.78-7.78 2.81-2.81c.8-.78.8-2.07 0-2.86zM5.41 20L4 18.59l7.72-7.72 1.47 1.35L5.41 20z\"/>\n",
              "  </svg>\n",
              "      </button>\n",
              "      \n",
              "  <style>\n",
              "    .colab-df-container {\n",
              "      display:flex;\n",
              "      flex-wrap:wrap;\n",
              "      gap: 12px;\n",
              "    }\n",
              "\n",
              "    .colab-df-convert {\n",
              "      background-color: #E8F0FE;\n",
              "      border: none;\n",
              "      border-radius: 50%;\n",
              "      cursor: pointer;\n",
              "      display: none;\n",
              "      fill: #1967D2;\n",
              "      height: 32px;\n",
              "      padding: 0 0 0 0;\n",
              "      width: 32px;\n",
              "    }\n",
              "\n",
              "    .colab-df-convert:hover {\n",
              "      background-color: #E2EBFA;\n",
              "      box-shadow: 0px 1px 2px rgba(60, 64, 67, 0.3), 0px 1px 3px 1px rgba(60, 64, 67, 0.15);\n",
              "      fill: #174EA6;\n",
              "    }\n",
              "\n",
              "    [theme=dark] .colab-df-convert {\n",
              "      background-color: #3B4455;\n",
              "      fill: #D2E3FC;\n",
              "    }\n",
              "\n",
              "    [theme=dark] .colab-df-convert:hover {\n",
              "      background-color: #434B5C;\n",
              "      box-shadow: 0px 1px 3px 1px rgba(0, 0, 0, 0.15);\n",
              "      filter: drop-shadow(0px 1px 2px rgba(0, 0, 0, 0.3));\n",
              "      fill: #FFFFFF;\n",
              "    }\n",
              "  </style>\n",
              "\n",
              "      <script>\n",
              "        const buttonEl =\n",
              "          document.querySelector('#df-69e47e1a-3e01-4273-827a-88b1ca46e0d0 button.colab-df-convert');\n",
              "        buttonEl.style.display =\n",
              "          google.colab.kernel.accessAllowed ? 'block' : 'none';\n",
              "\n",
              "        async function convertToInteractive(key) {\n",
              "          const element = document.querySelector('#df-69e47e1a-3e01-4273-827a-88b1ca46e0d0');\n",
              "          const dataTable =\n",
              "            await google.colab.kernel.invokeFunction('convertToInteractive',\n",
              "                                                     [key], {});\n",
              "          if (!dataTable) return;\n",
              "\n",
              "          const docLinkHtml = 'Like what you see? Visit the ' +\n",
              "            '<a target=\"_blank\" href=https://colab.research.google.com/notebooks/data_table.ipynb>data table notebook</a>'\n",
              "            + ' to learn more about interactive tables.';\n",
              "          element.innerHTML = '';\n",
              "          dataTable['output_type'] = 'display_data';\n",
              "          await google.colab.output.renderOutput(dataTable, element);\n",
              "          const docLink = document.createElement('div');\n",
              "          docLink.innerHTML = docLinkHtml;\n",
              "          element.appendChild(docLink);\n",
              "        }\n",
              "      </script>\n",
              "    </div>\n",
              "  </div>\n",
              "  "
            ],
            "text/plain": [
              "       date_block_num       shop_id       item_id    item_price  item_cnt_day\n",
              "count    2.935849e+06  2.935849e+06  2.935849e+06  2.935849e+06  2.935849e+06\n",
              "mean     1.456991e+01  3.300173e+01  1.019723e+04  8.908532e+02  1.242641e+00\n",
              "std      9.422988e+00  1.622697e+01  6.324297e+03  1.729800e+03  2.618834e+00\n",
              "min      0.000000e+00  0.000000e+00  0.000000e+00 -1.000000e+00 -2.200000e+01\n",
              "25%      7.000000e+00  2.200000e+01  4.476000e+03  2.490000e+02  1.000000e+00\n",
              "50%      1.400000e+01  3.100000e+01  9.343000e+03  3.990000e+02  1.000000e+00\n",
              "75%      2.300000e+01  4.700000e+01  1.568400e+04  9.990000e+02  1.000000e+00\n",
              "max      3.300000e+01  5.900000e+01  2.216900e+04  3.079800e+05  2.169000e+03"
            ]
          },
          "metadata": {},
          "execution_count": 9
        }
      ]
    },
    {
      "cell_type": "code",
      "source": [
        "df_train.isnull().sum() #checking missing value"
      ],
      "metadata": {
        "colab": {
          "base_uri": "https://localhost:8080/"
        },
        "id": "dLY6m_jvKwdA",
        "outputId": "1ee02fd9-098b-41fd-e4b5-1e66f0e0629b"
      },
      "execution_count": 10,
      "outputs": [
        {
          "output_type": "execute_result",
          "data": {
            "text/plain": [
              "date              0\n",
              "date_block_num    0\n",
              "shop_id           0\n",
              "item_id           0\n",
              "item_price        0\n",
              "item_cnt_day      0\n",
              "dtype: int64"
            ]
          },
          "metadata": {},
          "execution_count": 10
        }
      ]
    },
    {
      "cell_type": "code",
      "source": [
        "print(\"Number of Duplicates\" ,len(df_train[df_train.duplicated()]))"
      ],
      "metadata": {
        "colab": {
          "base_uri": "https://localhost:8080/"
        },
        "id": "lRkQfM9gKwYk",
        "outputId": "c6459065-44ba-4109-8f37-0f76d7ef85ed"
      },
      "execution_count": 11,
      "outputs": [
        {
          "output_type": "stream",
          "name": "stdout",
          "text": [
            "Number of Duplicates 6\n"
          ]
        }
      ]
    },
    {
      "cell_type": "code",
      "source": [
        "df_train[\"date\"]= pd.to_datetime(df_train[\"date\"], format='%d.%m.%Y')\n",
        "df_train.sort_values(by=\"date\", inplace=True)\n",
        "df_train.head()"
      ],
      "metadata": {
        "colab": {
          "base_uri": "https://localhost:8080/",
          "height": 206
        },
        "id": "2JAfjZ19KwR1",
        "outputId": "5715229f-84ba-43c5-fb32-0ad91869e82f"
      },
      "execution_count": 12,
      "outputs": [
        {
          "output_type": "execute_result",
          "data": {
            "text/html": [
              "\n",
              "  <div id=\"df-b61d9187-7534-4703-a954-22f6d8585438\">\n",
              "    <div class=\"colab-df-container\">\n",
              "      <div>\n",
              "<style scoped>\n",
              "    .dataframe tbody tr th:only-of-type {\n",
              "        vertical-align: middle;\n",
              "    }\n",
              "\n",
              "    .dataframe tbody tr th {\n",
              "        vertical-align: top;\n",
              "    }\n",
              "\n",
              "    .dataframe thead th {\n",
              "        text-align: right;\n",
              "    }\n",
              "</style>\n",
              "<table border=\"1\" class=\"dataframe\">\n",
              "  <thead>\n",
              "    <tr style=\"text-align: right;\">\n",
              "      <th></th>\n",
              "      <th>date</th>\n",
              "      <th>date_block_num</th>\n",
              "      <th>shop_id</th>\n",
              "      <th>item_id</th>\n",
              "      <th>item_price</th>\n",
              "      <th>item_cnt_day</th>\n",
              "    </tr>\n",
              "  </thead>\n",
              "  <tbody>\n",
              "    <tr>\n",
              "      <th>49800</th>\n",
              "      <td>2013-01-01</td>\n",
              "      <td>0</td>\n",
              "      <td>18</td>\n",
              "      <td>5823</td>\n",
              "      <td>2500.0</td>\n",
              "      <td>1.0</td>\n",
              "    </tr>\n",
              "    <tr>\n",
              "      <th>29784</th>\n",
              "      <td>2013-01-01</td>\n",
              "      <td>0</td>\n",
              "      <td>27</td>\n",
              "      <td>5573</td>\n",
              "      <td>849.0</td>\n",
              "      <td>1.0</td>\n",
              "    </tr>\n",
              "    <tr>\n",
              "      <th>35476</th>\n",
              "      <td>2013-01-01</td>\n",
              "      <td>0</td>\n",
              "      <td>7</td>\n",
              "      <td>1006</td>\n",
              "      <td>399.0</td>\n",
              "      <td>1.0</td>\n",
              "    </tr>\n",
              "    <tr>\n",
              "      <th>8330</th>\n",
              "      <td>2013-01-01</td>\n",
              "      <td>0</td>\n",
              "      <td>19</td>\n",
              "      <td>17707</td>\n",
              "      <td>899.0</td>\n",
              "      <td>1.0</td>\n",
              "    </tr>\n",
              "    <tr>\n",
              "      <th>57384</th>\n",
              "      <td>2013-01-01</td>\n",
              "      <td>0</td>\n",
              "      <td>14</td>\n",
              "      <td>19548</td>\n",
              "      <td>149.0</td>\n",
              "      <td>1.0</td>\n",
              "    </tr>\n",
              "  </tbody>\n",
              "</table>\n",
              "</div>\n",
              "      <button class=\"colab-df-convert\" onclick=\"convertToInteractive('df-b61d9187-7534-4703-a954-22f6d8585438')\"\n",
              "              title=\"Convert this dataframe to an interactive table.\"\n",
              "              style=\"display:none;\">\n",
              "        \n",
              "  <svg xmlns=\"http://www.w3.org/2000/svg\" height=\"24px\"viewBox=\"0 0 24 24\"\n",
              "       width=\"24px\">\n",
              "    <path d=\"M0 0h24v24H0V0z\" fill=\"none\"/>\n",
              "    <path d=\"M18.56 5.44l.94 2.06.94-2.06 2.06-.94-2.06-.94-.94-2.06-.94 2.06-2.06.94zm-11 1L8.5 8.5l.94-2.06 2.06-.94-2.06-.94L8.5 2.5l-.94 2.06-2.06.94zm10 10l.94 2.06.94-2.06 2.06-.94-2.06-.94-.94-2.06-.94 2.06-2.06.94z\"/><path d=\"M17.41 7.96l-1.37-1.37c-.4-.4-.92-.59-1.43-.59-.52 0-1.04.2-1.43.59L10.3 9.45l-7.72 7.72c-.78.78-.78 2.05 0 2.83L4 21.41c.39.39.9.59 1.41.59.51 0 1.02-.2 1.41-.59l7.78-7.78 2.81-2.81c.8-.78.8-2.07 0-2.86zM5.41 20L4 18.59l7.72-7.72 1.47 1.35L5.41 20z\"/>\n",
              "  </svg>\n",
              "      </button>\n",
              "      \n",
              "  <style>\n",
              "    .colab-df-container {\n",
              "      display:flex;\n",
              "      flex-wrap:wrap;\n",
              "      gap: 12px;\n",
              "    }\n",
              "\n",
              "    .colab-df-convert {\n",
              "      background-color: #E8F0FE;\n",
              "      border: none;\n",
              "      border-radius: 50%;\n",
              "      cursor: pointer;\n",
              "      display: none;\n",
              "      fill: #1967D2;\n",
              "      height: 32px;\n",
              "      padding: 0 0 0 0;\n",
              "      width: 32px;\n",
              "    }\n",
              "\n",
              "    .colab-df-convert:hover {\n",
              "      background-color: #E2EBFA;\n",
              "      box-shadow: 0px 1px 2px rgba(60, 64, 67, 0.3), 0px 1px 3px 1px rgba(60, 64, 67, 0.15);\n",
              "      fill: #174EA6;\n",
              "    }\n",
              "\n",
              "    [theme=dark] .colab-df-convert {\n",
              "      background-color: #3B4455;\n",
              "      fill: #D2E3FC;\n",
              "    }\n",
              "\n",
              "    [theme=dark] .colab-df-convert:hover {\n",
              "      background-color: #434B5C;\n",
              "      box-shadow: 0px 1px 3px 1px rgba(0, 0, 0, 0.15);\n",
              "      filter: drop-shadow(0px 1px 2px rgba(0, 0, 0, 0.3));\n",
              "      fill: #FFFFFF;\n",
              "    }\n",
              "  </style>\n",
              "\n",
              "      <script>\n",
              "        const buttonEl =\n",
              "          document.querySelector('#df-b61d9187-7534-4703-a954-22f6d8585438 button.colab-df-convert');\n",
              "        buttonEl.style.display =\n",
              "          google.colab.kernel.accessAllowed ? 'block' : 'none';\n",
              "\n",
              "        async function convertToInteractive(key) {\n",
              "          const element = document.querySelector('#df-b61d9187-7534-4703-a954-22f6d8585438');\n",
              "          const dataTable =\n",
              "            await google.colab.kernel.invokeFunction('convertToInteractive',\n",
              "                                                     [key], {});\n",
              "          if (!dataTable) return;\n",
              "\n",
              "          const docLinkHtml = 'Like what you see? Visit the ' +\n",
              "            '<a target=\"_blank\" href=https://colab.research.google.com/notebooks/data_table.ipynb>data table notebook</a>'\n",
              "            + ' to learn more about interactive tables.';\n",
              "          element.innerHTML = '';\n",
              "          dataTable['output_type'] = 'display_data';\n",
              "          await google.colab.output.renderOutput(dataTable, element);\n",
              "          const docLink = document.createElement('div');\n",
              "          docLink.innerHTML = docLinkHtml;\n",
              "          element.appendChild(docLink);\n",
              "        }\n",
              "      </script>\n",
              "    </div>\n",
              "  </div>\n",
              "  "
            ],
            "text/plain": [
              "            date  date_block_num  shop_id  item_id  item_price  item_cnt_day\n",
              "49800 2013-01-01               0       18     5823      2500.0           1.0\n",
              "29784 2013-01-01               0       27     5573       849.0           1.0\n",
              "35476 2013-01-01               0        7     1006       399.0           1.0\n",
              "8330  2013-01-01               0       19    17707       899.0           1.0\n",
              "57384 2013-01-01               0       14    19548       149.0           1.0"
            ]
          },
          "metadata": {},
          "execution_count": 12
        }
      ]
    },
    {
      "cell_type": "code",
      "source": [
        "print(\"We have records from date {} to {}\".format(df_train.date.min().date(),df_train.date.max().date()))"
      ],
      "metadata": {
        "colab": {
          "base_uri": "https://localhost:8080/"
        },
        "id": "nPTD_i3pzVb8",
        "outputId": "04c76346-5200-426c-d4e4-ccdb79c01cd4"
      },
      "execution_count": 40,
      "outputs": [
        {
          "output_type": "stream",
          "name": "stdout",
          "text": [
            "We have records from date 2013-01-01 to 2015-10-31\n"
          ]
        }
      ]
    },
    {
      "cell_type": "code",
      "source": [
        "df_train_2 = df_train.merge(df_items, on='item_id', how='left' )\n",
        "print(\"shop ids in train data:\", len(df_train.shop_id.unique()), \" Out of:\", len(df_shops.shop_id.unique()))\n",
        "print(\"item ids in train data:\", len(df_train.item_id.unique()), \" Out of:\", len(df_items.item_id.unique()))\n",
        "print(\"item cataegory ids in train data:\", len(df_train_2.item_category_id.unique()), \" Out of:\", len(df_items.item_category_id.unique()))"
      ],
      "metadata": {
        "colab": {
          "base_uri": "https://localhost:8080/"
        },
        "id": "nqbz6s33KwPa",
        "outputId": "9029bd3d-f880-487b-bfb5-ae96964a1ed8"
      },
      "execution_count": 76,
      "outputs": [
        {
          "output_type": "stream",
          "name": "stdout",
          "text": [
            "shop ids in train data: 60  Out of: 60\n",
            "item ids in train data: 21807  Out of: 22170\n",
            "item cataegory ids in train data: 84  Out of: 84\n"
          ]
        }
      ]
    },
    {
      "cell_type": "code",
      "source": [
        "df_test_2 = df_test.merge(df_items, on='item_id', how='left' )\n",
        "print(\"shop ids in test data:\", len(df_test.shop_id.unique()), \" Out of:\", len(df_shops.shop_id.unique()))\n",
        "print(\"item ids in test data:\", len(df_test.item_id.unique()), \" Out of:\", len(df_items.item_id.unique()))\n",
        "print(\"item cataegory ids in test data:\", len(df_test_2.item_category_id.unique()), \" Out of:\", len(df_items.item_category_id.unique()))"
      ],
      "metadata": {
        "colab": {
          "base_uri": "https://localhost:8080/"
        },
        "id": "v4Gz8p36KvAn",
        "outputId": "1380a785-3105-4b8b-cf0e-d4b866d0c166"
      },
      "execution_count": 16,
      "outputs": [
        {
          "output_type": "stream",
          "name": "stdout",
          "text": [
            "shop ids in test data: 42  Out of: 60\n",
            "item ids in test data: 5100  Out of: 22170\n",
            "item cataegory ids in test data: 62  Out of: 84\n"
          ]
        }
      ]
    },
    {
      "cell_type": "markdown",
      "source": [
        "### Analysing Outliers"
      ],
      "metadata": {
        "id": "vsZRD5b9Vy9z"
      }
    },
    {
      "cell_type": "code",
      "source": [
        "plt.figure(figsize=(10,4))\n",
        "sns.boxplot(x=df_train.item_cnt_day)\n",
        "for i in range(90,101):\n",
        "  print(\"{}th percenile value of item count: {}\".format(i,np.percentile(df_train.item_cnt_day.values,i)))\n",
        "outlier_item_cnt = np.percentile(df_train.item_cnt_day.values,100) "
      ],
      "metadata": {
        "id": "FkLZzshXKu9N",
        "colab": {
          "base_uri": "https://localhost:8080/",
          "height": 471
        },
        "outputId": "b42b0ad0-3872-46d9-f6ea-d5c2c5cbd0fd"
      },
      "execution_count": 53,
      "outputs": [
        {
          "output_type": "stream",
          "name": "stdout",
          "text": [
            "90th percenile value of item count: 2.0\n",
            "91th percenile value of item count: 2.0\n",
            "92th percenile value of item count: 2.0\n",
            "93th percenile value of item count: 2.0\n",
            "94th percenile value of item count: 2.0\n",
            "95th percenile value of item count: 2.0\n",
            "96th percenile value of item count: 2.0\n",
            "97th percenile value of item count: 3.0\n",
            "98th percenile value of item count: 3.0\n",
            "99th percenile value of item count: 5.0\n",
            "100th percenile value of item count: 2169.0\n"
          ]
        },
        {
          "output_type": "display_data",
          "data": {
            "image/png": "[encoded data removed]",
            "text/plain": [
              "<Figure size 720x288 with 1 Axes>"
            ]
          },
          "metadata": {
            "needs_background": "light"
          }
        }
      ]
    },
    {
      "cell_type": "markdown",
      "source": [
        "99% of training records has less 5 or less item count\n",
        "\n",
        "Only 1% of training records has more than 5 item count"
      ],
      "metadata": {
        "id": "UKtK5NbvrLIi"
      }
    },
    {
      "cell_type": "code",
      "source": [
        "plt.figure(figsize=(10,4))\n",
        "sns.boxplot(x=df_train.item_price)\n",
        "for i in range(90,101):\n",
        "  print(\"{}th percenile value of item price: {}\".format(i,np.percentile(df_train.item_price.values,i)))\n",
        "outlier_item_price = np.percentile(df_train.item_price.values,100) "
      ],
      "metadata": {
        "id": "XI7AbR58Kuzo",
        "colab": {
          "base_uri": "https://localhost:8080/",
          "height": 471
        },
        "outputId": "f3f393e2-c51f-4f2d-d820-cd4144a9b190"
      },
      "execution_count": 84,
      "outputs": [
        {
          "output_type": "stream",
          "name": "stdout",
          "text": [
            "90th percenile value of item price: 1999.0\n",
            "91th percenile value of item price: 2090.0\n",
            "92th percenile value of item price: 2299.0\n",
            "93th percenile value of item price: 2499.0\n",
            "94th percenile value of item price: 2599.0\n",
            "95th percenile value of item price: 2690.0\n",
            "96th percenile value of item price: 2999.0\n",
            "97th percenile value of item price: 3190.0\n",
            "98th percenile value of item price: 3590.0\n",
            "99th percenile value of item price: 5999.0\n",
            "100th percenile value of item price: 307980.0\n"
          ]
        },
        {
          "output_type": "display_data",
          "data": {
            "image/png": "[encoded data removed]",
            "text/plain": [
              "<Figure size 720x288 with 1 Axes>"
            ]
          },
          "metadata": {
            "needs_background": "light"
          }
        }
      ]
    },
    {
      "cell_type": "markdown",
      "source": [
        "99% of traning records has 5999 or less item price\n",
        "\n",
        "Only 1% of training records has more than 5999 item price"
      ],
      "metadata": {
        "id": "aGmLhqXBssm9"
      }
    },
    {
      "cell_type": "markdown",
      "source": [
        "###Shop wise selling"
      ],
      "metadata": {
        "id": "wefS1WvIVWqZ"
      }
    },
    {
      "cell_type": "code",
      "source": [
        "df_train_3 = df_train.groupby(['shop_id'], as_index=False)['item_cnt_day'].sum()\n",
        "plt.figure(figsize=(20,4))\n",
        "sns.barplot(x=\"shop_id\",y=\"item_cnt_day\", data=df_train_3)\n",
        "plt.show()"
      ],
      "metadata": {
        "colab": {
          "base_uri": "https://localhost:8080/",
          "height": 280
        },
        "id": "0yksyI_9talv",
        "outputId": "28743ad9-913d-4ad2-b23c-0e14d7823c7a"
      },
      "execution_count": 74,
      "outputs": [
        {
          "output_type": "display_data",
          "data": {
            "image/png": "[encoded data removed]",
            "text/plain": [
              "<Figure size 1440x288 with 1 Axes>"
            ]
          },
          "metadata": {
            "needs_background": "light"
          }
        }
      ]
    },
    {
      "cell_type": "markdown",
      "source": [
        "### Item category wise selling"
      ],
      "metadata": {
        "id": "702wqd7kVjhm"
      }
    },
    {
      "cell_type": "code",
      "source": [
        "df_train_3 = df_train_2.groupby(['item_category_id'], as_index=False)['item_cnt_day'].sum()\n",
        "plt.figure(figsize=(23,4))\n",
        "sns.barplot(x=\"item_category_id\",y=\"item_cnt_day\", data = df_train_3)\n",
        "plt.show()"
      ],
      "metadata": {
        "colab": {
          "base_uri": "https://localhost:8080/",
          "height": 280
        },
        "id": "s0EDMYiRtajk",
        "outputId": "79cacd4d-12d7-4a05-f254-f5d62c5c646f"
      },
      "execution_count": 77,
      "outputs": [
        {
          "output_type": "display_data",
          "data": {
            "image/png": "[encoded data removed]",
            "text/plain": [
              "<Figure size 1656x288 with 1 Axes>"
            ]
          },
          "metadata": {
            "needs_background": "light"
          }
        }
      ]
    },
    {
      "cell_type": "markdown",
      "source": [
        "### Month wise selling"
      ],
      "metadata": {
        "id": "-Bt7Wfv4WpVD"
      }
    },
    {
      "cell_type": "code",
      "source": [
        "df_train_3 = df_train.groupby(['date_block_num'], as_index=False)['item_cnt_day'].sum()\n",
        "plt.figure(figsize=(15,3))\n",
        "sns.barplot(x=\"date_block_num\",y=\"item_cnt_day\", data = df_train_3)\n",
        "plt.show()"
      ],
      "metadata": {
        "colab": {
          "base_uri": "https://localhost:8080/",
          "height": 226
        },
        "id": "boZOmNrGtahe",
        "outputId": "dbd0e0a1-5cc8-438a-edb4-7c176fb9965d"
      },
      "execution_count": 83,
      "outputs": [
        {
          "output_type": "display_data",
          "data": {
            "image/png": "[encoded data removed]",
            "text/plain": [
              "<Figure size 1080x216 with 1 Axes>"
            ]
          },
          "metadata": {
            "needs_background": "light"
          }
        }
      ]
    },
    {
      "cell_type": "markdown",
      "source": [
        "# EDA on shop_id and item_id exist in test data"
      ],
      "metadata": {
        "id": "isZU-6d-XF1T"
      }
    },
    {
      "cell_type": "code",
      "source": [
        "test_shop = df_test['shop_id'].unique()\n",
        "test_item = df_test['item_id'].unique()\n",
        "# Only shops that exist in test data\n",
        "_train = df_train[df_train['shop_id'].isin(test_shop)]\n",
        "# Only items that exist in test data\n",
        "_train = _train[_train['item_id'].isin(test_item)]"
      ],
      "metadata": {
        "id": "U_2lbhxRtafT"
      },
      "execution_count": 85,
      "outputs": []
    },
    {
      "cell_type": "code",
      "source": [
        "print(\"shape after exluding unwanted shop and item ids \",_train.shape)"
      ],
      "metadata": {
        "colab": {
          "base_uri": "https://localhost:8080/"
        },
        "id": "TVFxHk-8tac9",
        "outputId": "286a99a8-25a7-4837-f134-6b10094b64b7"
      },
      "execution_count": 89,
      "outputs": [
        {
          "output_type": "stream",
          "name": "stdout",
          "text": [
            "shape after exluding unwanted shop and item ids  (1224439, 6)\n"
          ]
        }
      ]
    },
    {
      "cell_type": "code",
      "source": [
        "print(\"Number of Duplicates\" ,len(_train[_train.duplicated()]))"
      ],
      "metadata": {
        "colab": {
          "base_uri": "https://localhost:8080/"
        },
        "id": "5BQO4gNBZwBv",
        "outputId": "f957858e-9357-4bda-bccb-ce634950ba0b"
      },
      "execution_count": 91,
      "outputs": [
        {
          "output_type": "stream",
          "name": "stdout",
          "text": [
            "Number of Duplicates 5\n"
          ]
        }
      ]
    },
    {
      "cell_type": "markdown",
      "source": [
        "### Outlier Analysing"
      ],
      "metadata": {
        "id": "echiuOntcObo"
      }
    },
    {
      "cell_type": "code",
      "source": [
        "plt.figure(figsize=(10,4))\n",
        "sns.boxplot(x=_train.item_cnt_day)\n",
        "for i in range(90,101):\n",
        "  print(\"{}th percenile value of item count: {}\".format(i,np.percentile(_train.item_cnt_day.values,i)))\n",
        "outlier_item_cnt = np.percentile(_train.item_cnt_day.values,100) "
      ],
      "metadata": {
        "colab": {
          "base_uri": "https://localhost:8080/",
          "height": 471
        },
        "id": "QWbQqc1iaBgz",
        "outputId": "6e542917-0397-47bd-d00e-1d0380bfcdb2"
      },
      "execution_count": 93,
      "outputs": [
        {
          "output_type": "stream",
          "name": "stdout",
          "text": [
            "90th percenile value of item count: 2.0\n",
            "91th percenile value of item count: 2.0\n",
            "92th percenile value of item count: 2.0\n",
            "93th percenile value of item count: 2.0\n",
            "94th percenile value of item count: 2.0\n",
            "95th percenile value of item count: 2.0\n",
            "96th percenile value of item count: 3.0\n",
            "97th percenile value of item count: 3.0\n",
            "98th percenile value of item count: 4.0\n",
            "99th percenile value of item count: 7.0\n",
            "100th percenile value of item count: 2169.0\n"
          ]
        },
        {
          "output_type": "display_data",
          "data": {
            "image/png": "[encoded data removed]",
            "text/plain": [
              "<Figure size 720x288 with 1 Axes>"
            ]
          },
          "metadata": {
            "needs_background": "light"
          }
        }
      ]
    },
    {
      "cell_type": "markdown",
      "source": [
        "99%  dataset has 7 or less sellings\n",
        "\n",
        "\n",
        "\n"
      ],
      "metadata": {
        "id": "AZWXkBGgcuTy"
      }
    },
    {
      "cell_type": "code",
      "source": [
        "plt.figure(figsize=(10,4))\n",
        "sns.boxplot(x=_train.item_price)\n",
        "for i in range(90,101):\n",
        "  print(\"{}th percenile value of item price: {}\".format(i,np.percentile(_train.item_price.values,i)))\n",
        "outlier_item_price = np.percentile(_train.item_price.values,100) "
      ],
      "metadata": {
        "colab": {
          "base_uri": "https://localhost:8080/",
          "height": 471
        },
        "id": "wDf0h_XraBdj",
        "outputId": "184dcdec-925f-4b58-80a8-0f721ae84d60"
      },
      "execution_count": 94,
      "outputs": [
        {
          "output_type": "stream",
          "name": "stdout",
          "text": [
            "90th percenile value of item price: 2499.0\n",
            "91th percenile value of item price: 2599.0\n",
            "92th percenile value of item price: 2599.0\n",
            "93th percenile value of item price: 2599.0\n",
            "94th percenile value of item price: 2799.0\n",
            "95th percenile value of item price: 2999.0\n",
            "96th percenile value of item price: 3190.0\n",
            "97th percenile value of item price: 3490.0\n",
            "98th percenile value of item price: 3790.0\n",
            "99th percenile value of item price: 4990.0\n",
            "100th percenile value of item price: 59200.0\n"
          ]
        },
        {
          "output_type": "display_data",
          "data": {
            "image/png": "[encoded data removed]",
            "text/plain": [
              "<Figure size 720x288 with 1 Axes>"
            ]
          },
          "metadata": {
            "needs_background": "light"
          }
        }
      ]
    },
    {
      "cell_type": "markdown",
      "source": [
        "99%  dataset has 4990 or less item price\n"
      ],
      "metadata": {
        "id": "VbVRzbdedHqC"
      }
    },
    {
      "cell_type": "markdown",
      "source": [
        "### Shop wise selling"
      ],
      "metadata": {
        "id": "tgXYW56NcKtp"
      }
    },
    {
      "cell_type": "code",
      "source": [
        "df_train_3 = _train.groupby(['shop_id'], as_index=False)['item_cnt_day'].sum()\n",
        "plt.figure(figsize=(20,4))\n",
        "sns.barplot(x=\"shop_id\",y=\"item_cnt_day\", data=df_train_3)\n",
        "plt.show()"
      ],
      "metadata": {
        "colab": {
          "base_uri": "https://localhost:8080/",
          "height": 280
        },
        "id": "ch78uisfaBbR",
        "outputId": "860e8f79-824b-4c47-82ec-a6801c913e62"
      },
      "execution_count": 95,
      "outputs": [
        {
          "output_type": "display_data",
          "data": {
            "image/png": "[encoded data removed]",
            "text/plain": [
              "<Figure size 1440x288 with 1 Axes>"
            ]
          },
          "metadata": {
            "needs_background": "light"
          }
        }
      ]
    },
    {
      "cell_type": "markdown",
      "source": [
        "### catogery wise selling"
      ],
      "metadata": {
        "id": "uLwSvSFocHGP"
      }
    },
    {
      "cell_type": "code",
      "source": [
        "_train_2 = _train.merge(df_items, on='item_id', how='left' )\n",
        "df_train_3 = _train_2.groupby(['item_category_id'], as_index=False)['item_cnt_day'].sum()\n",
        "plt.figure(figsize=(23,4))\n",
        "sns.barplot(x=\"item_category_id\",y=\"item_cnt_day\", data = df_train_3)\n",
        "plt.show()"
      ],
      "metadata": {
        "colab": {
          "base_uri": "https://localhost:8080/",
          "height": 280
        },
        "id": "b3lpfbZ4aBY0",
        "outputId": "dedbff47-f904-4884-8e26-db51887d87ca"
      },
      "execution_count": 96,
      "outputs": [
        {
          "output_type": "display_data",
          "data": {
            "image/png": "[encoded data removed]",
            "text/plain": [
              "<Figure size 1656x288 with 1 Axes>"
            ]
          },
          "metadata": {
            "needs_background": "light"
          }
        }
      ]
    },
    {
      "cell_type": "markdown",
      "source": [
        "### Month wise selling"
      ],
      "metadata": {
        "id": "x1onXjgDcFyD"
      }
    },
    {
      "cell_type": "code",
      "source": [
        "df_train_3 = _train.groupby(['date_block_num'], as_index=False)['item_cnt_day'].sum()\n",
        "plt.figure(figsize=(15,3))\n",
        "sns.barplot(x=\"date_block_num\",y=\"item_cnt_day\", data = df_train_3)\n",
        "plt.show()"
      ],
      "metadata": {
        "colab": {
          "base_uri": "https://localhost:8080/",
          "height": 226
        },
        "id": "zR4ycErfb3BY",
        "outputId": "5b102dae-335d-4bb9-9c92-bdb91882f59b"
      },
      "execution_count": 97,
      "outputs": [
        {
          "output_type": "display_data",
          "data": {
            "image/png": "[encoded data removed]",
            "text/plain": [
              "<Figure size 1080x216 with 1 Axes>"
            ]
          },
          "metadata": {
            "needs_background": "light"
          }
        }
      ]
    },
    {
      "cell_type": "code",
      "source": [
        ""
      ],
      "metadata": {
        "id": "zvq6A2hbb291"
      },
      "execution_count": null,
      "outputs": []
    },
    {
      "cell_type": "code",
      "source": [
        ""
      ],
      "metadata": {
        "id": "jj2n9VW_b249"
      },
      "execution_count": null,
      "outputs": []
    }
  ]
}