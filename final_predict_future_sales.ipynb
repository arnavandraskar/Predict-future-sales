{
 "cells": [
  {
   "cell_type": "code",
   "execution_count": 1,
   "id": "6d5a5971",
   "metadata": {},
   "outputs": [],
   "source": [
    "import pandas as pd\n",
    "import numpy as np\n",
    "import matplotlib.pyplot as plt\n",
    "import seaborn as sns\n",
    "import pickle\n",
    "from sklearn.metrics import mean_squared_error\n",
    "from flask import Flask, jsonify, request\n",
    "import joblib"
   ]
  },
  {
   "cell_type": "code",
   "execution_count": 8,
   "id": "08aae633",
   "metadata": {},
   "outputs": [],
   "source": [
    "def predict_sales(shop_id,item_id):\n",
    "    '''\n",
    "    This function will return prediction of future sale. \n",
    "    '''\n",
    "    \n",
    "    with open('D:/Case Study/Predict future sales/lgb_grid_2b','rb') as loc:\n",
    "        best_model = pickle.load(loc)\n",
    "        \n",
    "    with open('D:/Case Study/Predict future sales/data_val','rb') as loc:\n",
    "        X_val,y = pickle.load(loc)\n",
    "        \n",
    "    try: \n",
    "        pred = best_model.predict(X_test[X_test.shop_id == shop_id][X_test.item_id == item_id]).clip(0,20)\n",
    "        return print('prediction : {}'.format(int(pred)))\n",
    "    \n",
    "    except:\n",
    "        return print(\"Please enter valid shop_id/item_id\")"
   ]
  },
  {
   "cell_type": "code",
   "execution_count": 48,
   "id": "3e1a097d",
   "metadata": {},
   "outputs": [
    {
     "name": "stdout",
     "output_type": "stream",
     "text": [
      "prediction : 0\n"
     ]
    },
    {
     "name": "stderr",
     "output_type": "stream",
     "text": [
      "D:\\Anaconda3\\lib\\site-packages\\ipykernel_launcher.py:13: UserWarning: Boolean Series key will be reindexed to match DataFrame index.\n",
      "  del sys.path[0]\n"
     ]
    }
   ],
   "source": [
    "predict_sales(5,5002)"
   ]
  },
  {
   "cell_type": "code",
   "execution_count": 43,
   "id": "8f4c8acb",
   "metadata": {},
   "outputs": [],
   "source": [
    "def predict_score(shop_id,item_id):\n",
    "    '''\n",
    "    This function will return prediction of future sale. \n",
    "    '''\n",
    "    \n",
    "    with open('D:/Case Study/Predict future sales/lgb_grid_2b','rb') as loc:\n",
    "        best_model = pickle.load(loc)\n",
    "        \n",
    "    with open('D:/Case Study/Predict future sales/data_val','rb') as loc:\n",
    "        X_val,y_val = pickle.load(loc)\n",
    "        \n",
    "    try: \n",
    "        pred = best_model.predict(X_val[X_val.shop_id == shop_id][X_val.item_id == item_id]).clip(0,20)\n",
    "        y = y_val[X_val.shop_id == shop_id][X_val.item_id == item_id]\n",
    "        return print('score : {}'.format(mean_squared_error(pred,y,squared= False)))\n",
    "    \n",
    "    except:\n",
    "        return print(\"Please enter valid shop_id/item_id\")"
   ]
  },
  {
   "cell_type": "code",
   "execution_count": 47,
   "id": "c9cbc953",
   "metadata": {},
   "outputs": [
    {
     "name": "stdout",
     "output_type": "stream",
     "text": [
      "score : 0.15856524696427615\n"
     ]
    },
    {
     "name": "stderr",
     "output_type": "stream",
     "text": [
      "D:\\Anaconda3\\lib\\site-packages\\ipykernel_launcher.py:13: UserWarning: Boolean Series key will be reindexed to match DataFrame index.\n",
      "  del sys.path[0]\n"
     ]
    }
   ],
   "source": [
    "predict_score(5,5002)"
   ]
  },
  {
   "cell_type": "code",
   "execution_count": null,
   "id": "63fe9cf5",
   "metadata": {},
   "outputs": [],
   "source": []
  }
 ],
 "metadata": {
  "kernelspec": {
   "display_name": "Python 3",
   "language": "python",
   "name": "python3"
  },
  "language_info": {
   "codemirror_mode": {
    "name": "ipython",
    "version": 3
   },
   "file_extension": ".py",
   "mimetype": "text/x-python",
   "name": "python",
   "nbconvert_exporter": "python",
   "pygments_lexer": "ipython3",
   "version": "3.6.5"
  }
 },
 "nbformat": 4,
 "nbformat_minor": 5
}
